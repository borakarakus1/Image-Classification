{
 "cells": [
  {
   "cell_type": "code",
   "execution_count": 1,
   "id": "5c43a7b3",
   "metadata": {},
   "outputs": [
    {
     "name": "stdout",
     "output_type": "stream",
     "text": [
      "WARNING:tensorflow:From D:\\ProgramFiles\\anaconda3\\Lib\\site-packages\\keras\\src\\losses.py:2976: The name tf.losses.sparse_softmax_cross_entropy is deprecated. Please use tf.compat.v1.losses.sparse_softmax_cross_entropy instead.\n",
      "\n"
     ]
    }
   ],
   "source": [
    "from tensorflow.keras.models import load_model\n",
    "from tensorflow.keras.preprocessing.image import ImageDataGenerator\n",
    "import numpy as np\n",
    "from sklearn.metrics import accuracy_score"
   ]
  },
  {
   "cell_type": "code",
   "execution_count": 2,
   "id": "41647ac7",
   "metadata": {},
   "outputs": [
    {
     "name": "stdout",
     "output_type": "stream",
     "text": [
      "WARNING:tensorflow:From D:\\ProgramFiles\\anaconda3\\Lib\\site-packages\\keras\\src\\backend.py:1398: The name tf.executing_eagerly_outside_functions is deprecated. Please use tf.compat.v1.executing_eagerly_outside_functions instead.\n",
      "\n",
      "WARNING:tensorflow:From D:\\ProgramFiles\\anaconda3\\Lib\\site-packages\\keras\\src\\layers\\pooling\\max_pooling2d.py:161: The name tf.nn.max_pool is deprecated. Please use tf.nn.max_pool2d instead.\n",
      "\n",
      "Found 1311 images belonging to 4 classes.\n",
      "Found 1311 images belonging to 4 classes.\n",
      "164/164 [==============================] - 176s 1s/step\n",
      "164/164 [==============================] - 85s 508ms/step\n",
      "164/164 [==============================] - 18s 109ms/step\n",
      "Soft voting accuracy: 0.9710144927536232\n"
     ]
    }
   ],
   "source": [
    "\n",
    "vgg_net_model = load_model('VGG_NET_Model_Result.h5')\n",
    "google_net_model = load_model('Google_NET_Model_Result.h5')\n",
    "alex_net_model = load_model('Alex_NET_Model_Result.h5')\n",
    "file_path_test = 'D:/Personal/bitirme/grad/archive/testing'\n",
    "\n",
    "test_datagenetor = ImageDataGenerator()\n",
    "test_data = test_datagenetor.flow_from_directory(\n",
    "        file_path_test,\n",
    "        target_size=(224, 224),\n",
    "        shuffle = False,\n",
    "        batch_size=8,\n",
    "        class_mode='categorical'\n",
    ")\n",
    "\n",
    "test_data_for_google_net = test_datagenetor.flow_from_directory(\n",
    "        file_path_test,\n",
    "        target_size=(299, 299),\n",
    "        shuffle = False,\n",
    "        batch_size=8,\n",
    "        class_mode='categorical'\n",
    ")\n",
    "\n",
    "vgg_netnet_preds = vgg_net_model.predict(test_data)\n",
    "google_net_preds = google_net_model.predict(test_data_for_google_net)\n",
    "alex_net_preds = alex_net_model.predict(test_data)\n",
    "\n",
    "soft_voting_preds = np.argmax((vgg_netnet_preds + google_net_preds + alex_net_preds)/3, axis=1)\n",
    "\n",
    "true_labels = test_data.labels\n",
    "\n",
    "accuracy = accuracy_score(true_labels, soft_voting_preds)\n",
    "\n",
    "print('Soft voting accuracy:', accuracy)\n"
   ]
  },
  {
   "cell_type": "code",
   "execution_count": null,
   "id": "b4e203d4",
   "metadata": {},
   "outputs": [],
   "source": []
  }
 ],
 "metadata": {
  "kernelspec": {
   "display_name": "Python 3 (ipykernel)",
   "language": "python",
   "name": "python3"
  },
  "language_info": {
   "codemirror_mode": {
    "name": "ipython",
    "version": 3
   },
   "file_extension": ".py",
   "mimetype": "text/x-python",
   "name": "python",
   "nbconvert_exporter": "python",
   "pygments_lexer": "ipython3",
   "version": "3.11.5"
  }
 },
 "nbformat": 4,
 "nbformat_minor": 5
}
